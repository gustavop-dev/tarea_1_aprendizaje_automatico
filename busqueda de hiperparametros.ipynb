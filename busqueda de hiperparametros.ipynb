{
  "cells": [
    {
      "cell_type": "markdown",
      "metadata": {
        "id": "VyFnacNuc8J8"
      },
      "source": [
        "# Taller de búsqueda de hiperparámetros\n",
        "\n",
        "En este taller vamos a explorar la búsqueda de hiperparámetros de manera automática."
      ]
    },
    {
      "cell_type": "code",
      "execution_count": null,
      "metadata": {
        "id": "WwuqBvU5c2UP"
      },
      "outputs": [],
      "source": [
        "import time\n",
        "import numpy as np\n",
        "\n",
        "from sklearn.datasets import load_breast_cancer\n",
        "from sklearn.metrics import f1_score, accuracy_score\n",
        "from sklearn.model_selection import GridSearchCV, RandomizedSearchCV\n",
        "from sklearn.model_selection import train_test_split\n",
        "from sklearn.tree import DecisionTreeClassifier"
      ]
    },
    {
      "cell_type": "code",
      "execution_count": null,
      "metadata": {
        "id": "mdcApIzGfkA-"
      },
      "outputs": [],
      "source": [
        "X, y = load_breast_cancer(return_X_y=True)"
      ]
    },
    {
      "cell_type": "code",
      "execution_count": null,
      "metadata": {
        "id": "MOXrwdU2go2t"
      },
      "outputs": [],
      "source": [
        "test_size=0.25\n",
        "X_train, X_test, y_train, y_test = train_test_split(X, y, test_size=test_size)"
      ]
    },
    {
      "cell_type": "markdown",
      "metadata": {
        "id": "mflmNCKwiiC6"
      },
      "source": [
        "**Ejemplo 1:** encuentra los mejores hiperparámetros usando `GridSearchCV`"
      ]
    },
    {
      "cell_type": "code",
      "execution_count": null,
      "metadata": {
        "id": "Fil-25CXgq6v"
      },
      "outputs": [],
      "source": [
        "clf = DecisionTreeClassifier()\n",
        "\n",
        "# Define los valores que usarás en la búsqueda de hiperparámetros\n",
        "# max_depth: profundidad máxima del árbol de decisión\n",
        "# min_samples_leaf: número mínimo de muestras requeridas en una hoja\n",
        "# criterion: función para medir la calidad de una división\n",
        "param_grid = {\n",
        "    \"max_depth\": (3, 6, 12, 18),\n",
        "    \"min_samples_leaf\": (1, 2, 3),\n",
        "    \"criterion\": [\"gini\", \"entropy\"]\n",
        "}\n",
        "\n",
        "# Utiliza GridSearchCV para realizar una búsqueda exhaustiva de hiperparámetros\n",
        "# estimator: el modelo a usar (DecisionTreeClassifier)\n",
        "# param_grid: diccionario con los parámetros a probar\n",
        "# cv=5: validación cruzada con 5 pliegues\n",
        "# scoring='accuracy': métrica de evaluación (exactitud)\n",
        "# n_jobs=-1: usar todos los procesadores disponibles para acelerar la búsqueda\n",
        "gs = GridSearchCV(\n",
        "    estimator=clf,\n",
        "    param_grid=param_grid,\n",
        "    cv=5,\n",
        "    scoring='accuracy',\n",
        "    n_jobs=-1,\n",
        "    verbose=1\n",
        ")\n",
        "\n",
        "t0 = time.time()\n",
        "gs.fit(X_train, y_train)\n",
        "print(\"Tiempo de búsqueda: {:.3f}s\".format(time.time() - t0))"
      ]
    },
    {
      "cell_type": "markdown",
      "metadata": {
        "id": "tteRejCFKQFr"
      },
      "source": [
        "Podemos ver que el atributo `cv_results_` nos entrega los resultados de toda la búsqueda.\n",
        "\n",
        "Este atributo contiene un diccionario con información detallada sobre todas las combinaciones de parámetros probadas, incluyendo:\n",
        "- Los parámetros utilizados en cada iteración\n",
        "- Los puntajes de validación cruzada obtenidos\n",
        "- Los tiempos de ajuste y puntuación\n",
        "- Las desviaciones estándar de los puntajes"
      ]
    },
    {
      "cell_type": "code",
      "execution_count": null,
      "metadata": {
        "id": "HvqXXHKWqeki"
      },
      "outputs": [],
      "source": [
        "dir(gs)"
      ]
    },
    {
      "cell_type": "code",
      "execution_count": null,
      "metadata": {
        "id": "dqaewB2WIAXK"
      },
      "outputs": [],
      "source": [
        "gs.cv_results_"
      ]
    },
    {
      "cell_type": "markdown",
      "metadata": {
        "id": "m2txTbC3PwLd"
      },
      "source": [
        "Lo más importante es extraer los hiperparámetros del modelo que obtuvieron el mejor puntaje en validación cruzada.\n",
        "\n",
        "El atributo `best_params_` devuelve un diccionario con la combinación de hiperparámetros que logró el mejor rendimiento durante la búsqueda. Estos son los parámetros que deberías usar para entrenar tu modelo final."
      ]
    },
    {
      "cell_type": "code",
      "execution_count": null,
      "metadata": {
        "id": "KZ6IrAW2I8Dk"
      },
      "outputs": [],
      "source": [
        "gs.best_params_"
      ]
    },
    {
      "cell_type": "markdown",
      "metadata": {
        "id": "vfBKTWK2P7J_"
      },
      "source": [
        "También es posible obtener el mejor resultado en la métrica usada.\n",
        "\n",
        "El atributo `best_score_` devuelve el puntaje promedio de validación cruzada obtenido por la mejor combinación de hiperparámetros. Este valor te da una estimación del rendimiento esperado del modelo con estos parámetros."
      ]
    },
    {
      "cell_type": "code",
      "execution_count": null,
      "metadata": {
        "id": "rU8hoyPLPQS3"
      },
      "outputs": [],
      "source": [
        "gs.best_score_"
      ]
    },
    {
      "cell_type": "markdown",
      "metadata": {
        "id": "jyAy8u0VQMqm"
      },
      "source": [
        "Finalmente, es posible extraer directamente un estimador que ha sido creado con los mejores hiperparámetros.\n",
        "\n",
        "El atributo `best_estimator_` devuelve una instancia del modelo ya entrenado con los mejores parámetros encontrados. Este modelo está listo para usar en predicciones sin necesidad de entrenamiento adicional."
      ]
    },
    {
      "cell_type": "code",
      "execution_count": null,
      "metadata": {
        "id": "HSuzVLYWPS9q"
      },
      "outputs": [],
      "source": [
        "gs.best_estimator_"
      ]
    },
    {
      "cell_type": "markdown",
      "metadata": {
        "id": "9UxIKGE1QWh0"
      },
      "source": [
        "**Ejemplo 2:** la clase `RandomizedSearchCV` se puede usar casi de la misma manera, solo que esta vez se debe escoger un número de combinaciones a evaluar; las cuales se escogerán de manera aleatoria.\n",
        "\n",
        "### Ventajas de RandomizedSearchCV:\n",
        "- **Eficiencia:** No prueba todas las combinaciones posibles, solo un subconjunto aleatorio\n",
        "- **Escalabilidad:** Funciona mejor cuando hay muchos hiperparámetros\n",
        "- **Control de tiempo:** Puedes limitar el número de iteraciones según tu presupuesto de tiempo\n",
        "- **Distribuciones continuas:** Puede muestrear de distribuciones continuas (no solo valores discretos)\n",
        "\n",
        "### Cuándo usar cada método:\n",
        "- **GridSearchCV:** Cuando tienes pocos hiperparámetros y quieres una búsqueda exhaustiva\n",
        "- **RandomizedSearchCV:** Cuando tienes muchos hiperparámetros o un presupuesto de tiempo limitado"
      ]
    },
    {
      "cell_type": "code",
      "execution_count": null,
      "metadata": {
        "id": "9-SVjssQPmKc"
      },
      "outputs": [],
      "source": [
        "clf = DecisionTreeClassifier()\n",
        "\n",
        "# Define los valores que usarás en la búsqueda de hiperparámetros\n",
        "# param_dist: distribución de parámetros para el muestreo aleatorio\n",
        "# max_depth: profundidad máxima del árbol de decisión\n",
        "# min_samples_leaf: número mínimo de muestras requeridas en una hoja\n",
        "# criterion: función para medir la calidad de una división\n",
        "param_dist = {\n",
        "    \"max_depth\": (3, 6, 12, 18),\n",
        "    \"min_samples_leaf\": (1, 2, 3),\n",
        "    \"criterion\": [\"gini\", \"entropy\"]\n",
        "}\n",
        "\n",
        "# Utiliza RandomizedSearchCV para realizar una búsqueda aleatoria de hiperparámetros\n",
        "# estimator: el modelo a usar (DecisionTreeClassifier)\n",
        "# param_distributions: diccionario con las distribuciones de parámetros a muestrear\n",
        "# n_iter: número de combinaciones de parámetros a probar (10 en este caso)\n",
        "# cv=5: validación cruzada con 5 pliegues\n",
        "# scoring='accuracy': métrica de evaluación (exactitud)\n",
        "# n_jobs=-1: usar todos los procesadores disponibles para acelerar la búsqueda\n",
        "# random_state=42: semilla para reproducibilidad de los resultados\n",
        "rs = RandomizedSearchCV(\n",
        "    estimator=clf,\n",
        "    param_distributions=param_dist,\n",
        "    n_iter=10,\n",
        "    cv=5,\n",
        "    scoring='accuracy',\n",
        "    n_jobs=-1,\n",
        "    random_state=42,\n",
        "    verbose=1\n",
        ")\n",
        "\n",
        "t0 = time.time()\n",
        "rs.fit(X_train, y_train)\n",
        "print(\"Tiempo de búsqueda: {:.3f}s\".format(time.time() - t0))"
      ]
    },
    {
      "cell_type": "code",
      "execution_count": null,
      "metadata": {
        "id": "r5lznQSNSAdr"
      },
      "outputs": [],
      "source": [
        "rs.best_score_"
      ]
    },
    {
      "cell_type": "markdown",
      "metadata": {
        "id": "OAKtSxo-bll9"
      },
      "source": [
        "Podemos ver que aunque se demoró mucho menos, el resultado no es tan bueno.\n",
        "\n",
        "### Comparación de resultados:\n",
        "- **GridSearchCV:** Busca exhaustivamente, garantiza encontrar la mejor combinación dentro del espacio definido\n",
        "- **RandomizedSearchCV:** Busca aleatoriamente, puede encontrar buenas combinaciones más rápidamente\n",
        "\n",
        "### Recomendaciones:\n",
        "1. **Comienza con RandomizedSearchCV** para explorar rápidamente el espacio de hiperparámetros\n",
        "2. **Usa GridSearchCV** para hacer una búsqueda más fina alrededor de las mejores regiones encontradas\n",
        "3. **Considera el tiempo disponible** y el número de hiperparámetros al elegir el método\n",
        "4. **Prueba diferentes valores de n_iter** en RandomizedSearchCV para encontrar el equilibrio entre tiempo y calidad"
      ]
    },
    {
      "cell_type": "raw",
      "metadata": {},
      "source": [
        "## Evaluación final en el conjunto de prueba\n",
        "\n",
        "Es importante evaluar el rendimiento de los modelos optimizados en el conjunto de prueba para obtener una estimación más realista de su rendimiento en datos no vistos.\n"
      ]
    },
    {
      "cell_type": "code",
      "execution_count": null,
      "metadata": {},
      "outputs": [],
      "source": [
        "# Evaluación de los modelos optimizados en el conjunto de prueba\n",
        "\n",
        "# Predicciones con GridSearchCV\n",
        "gs_predictions = gs.best_estimator_.predict(X_test)\n",
        "gs_accuracy = accuracy_score(y_test, gs_predictions)\n",
        "gs_f1 = f1_score(y_test, gs_predictions)\n",
        "\n",
        "# Predicciones con RandomizedSearchCV\n",
        "rs_predictions = rs.best_estimator_.predict(X_test)\n",
        "rs_accuracy = accuracy_score(y_test, rs_predictions)\n",
        "rs_f1 = f1_score(y_test, rs_predictions)\n",
        "\n",
        "print(\"=== COMPARACIÓN DE RESULTADOS ===\")\n",
        "print(f\"GridSearchCV:\")\n",
        "print(f\"  - Mejores parámetros: {gs.best_params_}\")\n",
        "print(f\"  - Puntaje en validación cruzada: {gs.best_score_:.4f}\")\n",
        "print(f\"  - Exactitud en conjunto de prueba: {gs_accuracy:.4f}\")\n",
        "print(f\"  - F1-score en conjunto de prueba: {gs_f1:.4f}\")\n",
        "print()\n",
        "print(f\"RandomizedSearchCV:\")\n",
        "print(f\"  - Mejores parámetros: {rs.best_params_}\")\n",
        "print(f\"  - Puntaje en validación cruzada: {rs.best_score_:.4f}\")\n",
        "print(f\"  - Exactitud en conjunto de prueba: {rs_accuracy:.4f}\")\n",
        "print(f\"  - F1-score en conjunto de prueba: {rs_f1:.4f}\")\n",
        "print()\n",
        "\n",
        "# Comparación directa\n",
        "print(\"=== COMPARACIÓN DIRECTA ===\")\n",
        "if gs_accuracy > rs_accuracy:\n",
        "    print(f\"GridSearchCV obtuvo mejor exactitud (+{gs_accuracy - rs_accuracy:.4f})\")\n",
        "else:\n",
        "    print(f\"RandomizedSearchCV obtuvo mejor exactitud (+{rs_accuracy - gs_accuracy:.4f})\")\n",
        "\n",
        "if gs_f1 > rs_f1:\n",
        "    print(f\"GridSearchCV obtuvo mejor F1-score (+{gs_f1 - rs_f1:.4f})\")\n",
        "else:\n",
        "    print(f\"RandomizedSearchCV obtuvo mejor F1-score (+{rs_f1 - gs_f1:.4f})\")\n"
      ]
    },
    {
      "cell_type": "raw",
      "metadata": {},
      "source": [
        "## Conclusiones y mejores prácticas\n",
        "\n",
        "### Puntos clave aprendidos:\n",
        "\n",
        "1. **GridSearchCV vs RandomizedSearchCV:**\n",
        "   - GridSearchCV garantiza encontrar la mejor combinación dentro del espacio definido\n",
        "   - RandomizedSearchCV es más eficiente computacionalmente para espacios grandes\n",
        "\n",
        "2. **Evaluación adecuada:**\n",
        "   - Siempre evalúa el modelo final en un conjunto de prueba independiente\n",
        "   - Los puntajes de validación cruzada son estimaciones; el rendimiento real puede variar\n",
        "\n",
        "3. **Estrategias recomendadas:**\n",
        "   - Comienza con una búsqueda aleatoria amplia\n",
        "   - Refina con una búsqueda en cuadrícula más específica\n",
        "   - Considera el equilibrio entre tiempo de cómputo y mejora de rendimiento\n",
        "\n",
        "### Próximos pasos:\n",
        "- Experimenta con diferentes métricas de evaluación (`scoring`)\n",
        "- Prueba con otros algoritmos de clasificación\n",
        "- Considera técnicas más avanzadas como Bayesian Optimization\n",
        "- Implementa validación cruzada estratificada para datasets desbalanceados\n"
      ]
    }
  ],
  "metadata": {
    "colab": {
      "provenance": []
    },
    "kernelspec": {
      "display_name": "Python 3",
      "name": "python3"
    }
  },
  "nbformat": 4,
  "nbformat_minor": 0
}
